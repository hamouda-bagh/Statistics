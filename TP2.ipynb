{
  "cells": [
    {
      "cell_type": "markdown",
      "metadata": {
        "id": "k-UobhDUMAld"
      },
      "source": [
        "## TP2"
      ]
    },
    {
      "cell_type": "code",
      "execution_count": null,
      "metadata": {
        "id": "rxagEuvWL6t0"
      },
      "outputs": [],
      "source": [
        "import pandas as pd\n",
        "import matplotlib.pyplot as plt"
      ]
    },
    {
      "cell_type": "markdown",
      "metadata": {
        "id": "AaNWHSg7NyMf"
      },
      "source": [
        "## Charger vos données dans un DataFrame Pandas"
      ]
    },
    {
      "cell_type": "code",
      "execution_count": null,
      "metadata": {
        "id": "PWA6lBBPMIu2",
        "scrolled": true,
        "outputId": "13ad1642-89eb-4690-b55b-3f96a73a34ee"
      },
      "outputs": [
        {
          "data": {
            "text/html": [
              "<div>\n",
              "<style scoped>\n",
              "    .dataframe tbody tr th:only-of-type {\n",
              "        vertical-align: middle;\n",
              "    }\n",
              "\n",
              "    .dataframe tbody tr th {\n",
              "        vertical-align: top;\n",
              "    }\n",
              "\n",
              "    .dataframe thead th {\n",
              "        text-align: right;\n",
              "    }\n",
              "</style>\n",
              "<table border=\"1\" class=\"dataframe\">\n",
              "  <thead>\n",
              "    <tr style=\"text-align: right;\">\n",
              "      <th></th>\n",
              "      <th>Num</th>\n",
              "      <th>SE_L</th>\n",
              "      <th>SE_W</th>\n",
              "      <th>PE_L</th>\n",
              "      <th>PE_W</th>\n",
              "      <th>Espece</th>\n",
              "    </tr>\n",
              "  </thead>\n",
              "  <tbody>\n",
              "    <tr>\n",
              "      <th>0</th>\n",
              "      <td>i001</td>\n",
              "      <td>50</td>\n",
              "      <td>33</td>\n",
              "      <td>14</td>\n",
              "      <td>2</td>\n",
              "      <td>SETOSA</td>\n",
              "    </tr>\n",
              "    <tr>\n",
              "      <th>1</th>\n",
              "      <td>i002</td>\n",
              "      <td>64</td>\n",
              "      <td>28</td>\n",
              "      <td>56</td>\n",
              "      <td>22</td>\n",
              "      <td>VIRGINICA</td>\n",
              "    </tr>\n",
              "    <tr>\n",
              "      <th>2</th>\n",
              "      <td>i003</td>\n",
              "      <td>65</td>\n",
              "      <td>28</td>\n",
              "      <td>46</td>\n",
              "      <td>15</td>\n",
              "      <td>VERSICOLOR</td>\n",
              "    </tr>\n",
              "    <tr>\n",
              "      <th>3</th>\n",
              "      <td>i004</td>\n",
              "      <td>67</td>\n",
              "      <td>31</td>\n",
              "      <td>56</td>\n",
              "      <td>24</td>\n",
              "      <td>VIRGINICA</td>\n",
              "    </tr>\n",
              "    <tr>\n",
              "      <th>4</th>\n",
              "      <td>i005</td>\n",
              "      <td>63</td>\n",
              "      <td>28</td>\n",
              "      <td>51</td>\n",
              "      <td>15</td>\n",
              "      <td>VIRGINICA</td>\n",
              "    </tr>\n",
              "    <tr>\n",
              "      <th>5</th>\n",
              "      <td>i006</td>\n",
              "      <td>46</td>\n",
              "      <td>34</td>\n",
              "      <td>14</td>\n",
              "      <td>3</td>\n",
              "      <td>SETOSA</td>\n",
              "    </tr>\n",
              "    <tr>\n",
              "      <th>6</th>\n",
              "      <td>i007</td>\n",
              "      <td>69</td>\n",
              "      <td>31</td>\n",
              "      <td>51</td>\n",
              "      <td>23</td>\n",
              "      <td>VIRGINICA</td>\n",
              "    </tr>\n",
              "    <tr>\n",
              "      <th>7</th>\n",
              "      <td>i008</td>\n",
              "      <td>62</td>\n",
              "      <td>22</td>\n",
              "      <td>45</td>\n",
              "      <td>15</td>\n",
              "      <td>VERSICOLOR</td>\n",
              "    </tr>\n",
              "    <tr>\n",
              "      <th>8</th>\n",
              "      <td>i009</td>\n",
              "      <td>59</td>\n",
              "      <td>32</td>\n",
              "      <td>48</td>\n",
              "      <td>18</td>\n",
              "      <td>VERSICOLOR</td>\n",
              "    </tr>\n",
              "    <tr>\n",
              "      <th>9</th>\n",
              "      <td>i010</td>\n",
              "      <td>46</td>\n",
              "      <td>36</td>\n",
              "      <td>10</td>\n",
              "      <td>2</td>\n",
              "      <td>SETOSA</td>\n",
              "    </tr>\n",
              "    <tr>\n",
              "      <th>10</th>\n",
              "      <td>i011</td>\n",
              "      <td>61</td>\n",
              "      <td>30</td>\n",
              "      <td>46</td>\n",
              "      <td>14</td>\n",
              "      <td>VERSICOLOR</td>\n",
              "    </tr>\n",
              "    <tr>\n",
              "      <th>11</th>\n",
              "      <td>i012</td>\n",
              "      <td>60</td>\n",
              "      <td>27</td>\n",
              "      <td>51</td>\n",
              "      <td>16</td>\n",
              "      <td>VERSICOLOR</td>\n",
              "    </tr>\n",
              "    <tr>\n",
              "      <th>12</th>\n",
              "      <td>i013</td>\n",
              "      <td>65</td>\n",
              "      <td>30</td>\n",
              "      <td>52</td>\n",
              "      <td>20</td>\n",
              "      <td>VIRGINICA</td>\n",
              "    </tr>\n",
              "    <tr>\n",
              "      <th>13</th>\n",
              "      <td>i014</td>\n",
              "      <td>56</td>\n",
              "      <td>25</td>\n",
              "      <td>39</td>\n",
              "      <td>11</td>\n",
              "      <td>VERSICOLOR</td>\n",
              "    </tr>\n",
              "    <tr>\n",
              "      <th>14</th>\n",
              "      <td>i015</td>\n",
              "      <td>65</td>\n",
              "      <td>30</td>\n",
              "      <td>55</td>\n",
              "      <td>18</td>\n",
              "      <td>VIRGINICA</td>\n",
              "    </tr>\n",
              "    <tr>\n",
              "      <th>15</th>\n",
              "      <td>i016</td>\n",
              "      <td>58</td>\n",
              "      <td>27</td>\n",
              "      <td>51</td>\n",
              "      <td>19</td>\n",
              "      <td>VIRGINICA</td>\n",
              "    </tr>\n",
              "    <tr>\n",
              "      <th>16</th>\n",
              "      <td>i017</td>\n",
              "      <td>68</td>\n",
              "      <td>32</td>\n",
              "      <td>59</td>\n",
              "      <td>23</td>\n",
              "      <td>VIRGINICA</td>\n",
              "    </tr>\n",
              "    <tr>\n",
              "      <th>17</th>\n",
              "      <td>i018</td>\n",
              "      <td>51</td>\n",
              "      <td>33</td>\n",
              "      <td>17</td>\n",
              "      <td>5</td>\n",
              "      <td>SETOSA</td>\n",
              "    </tr>\n",
              "    <tr>\n",
              "      <th>18</th>\n",
              "      <td>i019</td>\n",
              "      <td>57</td>\n",
              "      <td>28</td>\n",
              "      <td>45</td>\n",
              "      <td>13</td>\n",
              "      <td>VERSICOLOR</td>\n",
              "    </tr>\n",
              "    <tr>\n",
              "      <th>19</th>\n",
              "      <td>i020</td>\n",
              "      <td>62</td>\n",
              "      <td>34</td>\n",
              "      <td>54</td>\n",
              "      <td>23</td>\n",
              "      <td>VIRGINICA</td>\n",
              "    </tr>\n",
              "    <tr>\n",
              "      <th>20</th>\n",
              "      <td>i021</td>\n",
              "      <td>77</td>\n",
              "      <td>38</td>\n",
              "      <td>67</td>\n",
              "      <td>22</td>\n",
              "      <td>VIRGINICA</td>\n",
              "    </tr>\n",
              "    <tr>\n",
              "      <th>21</th>\n",
              "      <td>i022</td>\n",
              "      <td>63</td>\n",
              "      <td>33</td>\n",
              "      <td>47</td>\n",
              "      <td>16</td>\n",
              "      <td>VERSICOLOR</td>\n",
              "    </tr>\n",
              "    <tr>\n",
              "      <th>22</th>\n",
              "      <td>i023</td>\n",
              "      <td>67</td>\n",
              "      <td>33</td>\n",
              "      <td>57</td>\n",
              "      <td>25</td>\n",
              "      <td>VIRGINICA</td>\n",
              "    </tr>\n",
              "    <tr>\n",
              "      <th>23</th>\n",
              "      <td>i024</td>\n",
              "      <td>76</td>\n",
              "      <td>30</td>\n",
              "      <td>66</td>\n",
              "      <td>21</td>\n",
              "      <td>VIRGINICA</td>\n",
              "    </tr>\n",
              "    <tr>\n",
              "      <th>24</th>\n",
              "      <td>i025</td>\n",
              "      <td>49</td>\n",
              "      <td>25</td>\n",
              "      <td>45</td>\n",
              "      <td>17</td>\n",
              "      <td>VIRGINICA</td>\n",
              "    </tr>\n",
              "    <tr>\n",
              "      <th>25</th>\n",
              "      <td>i026</td>\n",
              "      <td>55</td>\n",
              "      <td>35</td>\n",
              "      <td>13</td>\n",
              "      <td>2</td>\n",
              "      <td>SETOSA</td>\n",
              "    </tr>\n",
              "    <tr>\n",
              "      <th>26</th>\n",
              "      <td>i027</td>\n",
              "      <td>67</td>\n",
              "      <td>30</td>\n",
              "      <td>52</td>\n",
              "      <td>23</td>\n",
              "      <td>VIRGINICA</td>\n",
              "    </tr>\n",
              "  </tbody>\n",
              "</table>\n",
              "</div>"
            ],
            "text/plain": [
              "     Num  SE_L  SE_W  PE_L  PE_W      Espece\n",
              "0   i001    50    33    14     2      SETOSA\n",
              "1   i002    64    28    56    22   VIRGINICA\n",
              "2   i003    65    28    46    15  VERSICOLOR\n",
              "3   i004    67    31    56    24   VIRGINICA\n",
              "4   i005    63    28    51    15   VIRGINICA\n",
              "5   i006    46    34    14     3      SETOSA\n",
              "6   i007    69    31    51    23   VIRGINICA\n",
              "7   i008    62    22    45    15  VERSICOLOR\n",
              "8   i009    59    32    48    18  VERSICOLOR\n",
              "9   i010    46    36    10     2      SETOSA\n",
              "10  i011    61    30    46    14  VERSICOLOR\n",
              "11  i012    60    27    51    16  VERSICOLOR\n",
              "12  i013    65    30    52    20   VIRGINICA\n",
              "13  i014    56    25    39    11  VERSICOLOR\n",
              "14  i015    65    30    55    18   VIRGINICA\n",
              "15  i016    58    27    51    19   VIRGINICA\n",
              "16  i017    68    32    59    23   VIRGINICA\n",
              "17  i018    51    33    17     5      SETOSA\n",
              "18  i019    57    28    45    13  VERSICOLOR\n",
              "19  i020    62    34    54    23   VIRGINICA\n",
              "20  i021    77    38    67    22   VIRGINICA\n",
              "21  i022    63    33    47    16  VERSICOLOR\n",
              "22  i023    67    33    57    25   VIRGINICA\n",
              "23  i024    76    30    66    21   VIRGINICA\n",
              "24  i025    49    25    45    17   VIRGINICA\n",
              "25  i026    55    35    13     2      SETOSA\n",
              "26  i027    67    30    52    23   VIRGINICA"
            ]
          },
          "execution_count": 4,
          "metadata": {},
          "output_type": "execute_result"
        }
      ],
      "source": [
        "data = pd.read_excel('IRIS.xlsx')\n",
        "data"
      ]
    },
    {
      "cell_type": "markdown",
      "metadata": {
        "id": "hAOrZK3mOG91",
        "outputId": "c3cd9590-b1c1-4c08-86f2-f762d26c55ff"
      },
      "source": [
        "## Affichez la dimension, les 5 premiers éléments"
      ]
    },
    {
      "cell_type": "code",
      "execution_count": null,
      "metadata": {
        "id": "Sln9pgpEUDf9",
        "outputId": "27f9386d-a7f9-434c-8183-55aac12ed286"
      },
      "outputs": [
        {
          "name": "stdout",
          "output_type": "stream",
          "text": [
            "(27, 6)\n"
          ]
        },
        {
          "data": {
            "text/html": [
              "<div>\n",
              "<style scoped>\n",
              "    .dataframe tbody tr th:only-of-type {\n",
              "        vertical-align: middle;\n",
              "    }\n",
              "\n",
              "    .dataframe tbody tr th {\n",
              "        vertical-align: top;\n",
              "    }\n",
              "\n",
              "    .dataframe thead th {\n",
              "        text-align: right;\n",
              "    }\n",
              "</style>\n",
              "<table border=\"1\" class=\"dataframe\">\n",
              "  <thead>\n",
              "    <tr style=\"text-align: right;\">\n",
              "      <th></th>\n",
              "      <th>Num</th>\n",
              "      <th>SE_L</th>\n",
              "      <th>SE_W</th>\n",
              "      <th>PE_L</th>\n",
              "      <th>PE_W</th>\n",
              "      <th>Espece</th>\n",
              "    </tr>\n",
              "  </thead>\n",
              "  <tbody>\n",
              "    <tr>\n",
              "      <th>0</th>\n",
              "      <td>i001</td>\n",
              "      <td>50</td>\n",
              "      <td>33</td>\n",
              "      <td>14</td>\n",
              "      <td>2</td>\n",
              "      <td>SETOSA</td>\n",
              "    </tr>\n",
              "    <tr>\n",
              "      <th>1</th>\n",
              "      <td>i002</td>\n",
              "      <td>64</td>\n",
              "      <td>28</td>\n",
              "      <td>56</td>\n",
              "      <td>22</td>\n",
              "      <td>VIRGINICA</td>\n",
              "    </tr>\n",
              "    <tr>\n",
              "      <th>2</th>\n",
              "      <td>i003</td>\n",
              "      <td>65</td>\n",
              "      <td>28</td>\n",
              "      <td>46</td>\n",
              "      <td>15</td>\n",
              "      <td>VERSICOLOR</td>\n",
              "    </tr>\n",
              "    <tr>\n",
              "      <th>3</th>\n",
              "      <td>i004</td>\n",
              "      <td>67</td>\n",
              "      <td>31</td>\n",
              "      <td>56</td>\n",
              "      <td>24</td>\n",
              "      <td>VIRGINICA</td>\n",
              "    </tr>\n",
              "    <tr>\n",
              "      <th>4</th>\n",
              "      <td>i005</td>\n",
              "      <td>63</td>\n",
              "      <td>28</td>\n",
              "      <td>51</td>\n",
              "      <td>15</td>\n",
              "      <td>VIRGINICA</td>\n",
              "    </tr>\n",
              "    <tr>\n",
              "      <th>5</th>\n",
              "      <td>i006</td>\n",
              "      <td>46</td>\n",
              "      <td>34</td>\n",
              "      <td>14</td>\n",
              "      <td>3</td>\n",
              "      <td>SETOSA</td>\n",
              "    </tr>\n",
              "    <tr>\n",
              "      <th>6</th>\n",
              "      <td>i007</td>\n",
              "      <td>69</td>\n",
              "      <td>31</td>\n",
              "      <td>51</td>\n",
              "      <td>23</td>\n",
              "      <td>VIRGINICA</td>\n",
              "    </tr>\n",
              "  </tbody>\n",
              "</table>\n",
              "</div>"
            ],
            "text/plain": [
              "    Num  SE_L  SE_W  PE_L  PE_W      Espece\n",
              "0  i001    50    33    14     2      SETOSA\n",
              "1  i002    64    28    56    22   VIRGINICA\n",
              "2  i003    65    28    46    15  VERSICOLOR\n",
              "3  i004    67    31    56    24   VIRGINICA\n",
              "4  i005    63    28    51    15   VIRGINICA\n",
              "5  i006    46    34    14     3      SETOSA\n",
              "6  i007    69    31    51    23   VIRGINICA"
            ]
          },
          "execution_count": 8,
          "metadata": {},
          "output_type": "execute_result"
        }
      ],
      "source": [
        "#La dimension\n",
        "print(data.shape)\n",
        "#Les 5 premiers éléments\n",
        "data.head(7)"
      ]
    },
    {
      "cell_type": "markdown",
      "metadata": {
        "id": "1NyIjgK6PGzb",
        "outputId": "b0e851ea-a128-4b91-81a7-ee5b1a91c6fe"
      },
      "source": [
        "## Affichez les indicateurs statistiques"
      ]
    },
    {
      "cell_type": "code",
      "execution_count": null,
      "metadata": {
        "id": "rLEtonKTUDf-",
        "outputId": "4ab665b4-edf1-44a5-dbf3-de6d7124bdf6"
      },
      "outputs": [
        {
          "data": {
            "text/html": [
              "<div>\n",
              "<style scoped>\n",
              "    .dataframe tbody tr th:only-of-type {\n",
              "        vertical-align: middle;\n",
              "    }\n",
              "\n",
              "    .dataframe tbody tr th {\n",
              "        vertical-align: top;\n",
              "    }\n",
              "\n",
              "    .dataframe thead th {\n",
              "        text-align: right;\n",
              "    }\n",
              "</style>\n",
              "<table border=\"1\" class=\"dataframe\">\n",
              "  <thead>\n",
              "    <tr style=\"text-align: right;\">\n",
              "      <th></th>\n",
              "      <th>SE_L</th>\n",
              "      <th>SE_W</th>\n",
              "      <th>PE_L</th>\n",
              "      <th>PE_W</th>\n",
              "    </tr>\n",
              "  </thead>\n",
              "  <tbody>\n",
              "    <tr>\n",
              "      <th>count</th>\n",
              "      <td>27.000000</td>\n",
              "      <td>27.000000</td>\n",
              "      <td>27.000000</td>\n",
              "      <td>27.000000</td>\n",
              "    </tr>\n",
              "    <tr>\n",
              "      <th>mean</th>\n",
              "      <td>61.037037</td>\n",
              "      <td>30.481481</td>\n",
              "      <td>44.703704</td>\n",
              "      <td>15.814815</td>\n",
              "    </tr>\n",
              "    <tr>\n",
              "      <th>std</th>\n",
              "      <td>8.026310</td>\n",
              "      <td>3.641327</td>\n",
              "      <td>16.330281</td>\n",
              "      <td>7.311935</td>\n",
              "    </tr>\n",
              "    <tr>\n",
              "      <th>min</th>\n",
              "      <td>46.000000</td>\n",
              "      <td>22.000000</td>\n",
              "      <td>10.000000</td>\n",
              "      <td>2.000000</td>\n",
              "    </tr>\n",
              "    <tr>\n",
              "      <th>25%</th>\n",
              "      <td>56.500000</td>\n",
              "      <td>28.000000</td>\n",
              "      <td>45.000000</td>\n",
              "      <td>13.500000</td>\n",
              "    </tr>\n",
              "    <tr>\n",
              "      <th>50%</th>\n",
              "      <td>62.000000</td>\n",
              "      <td>30.000000</td>\n",
              "      <td>51.000000</td>\n",
              "      <td>17.000000</td>\n",
              "    </tr>\n",
              "    <tr>\n",
              "      <th>75%</th>\n",
              "      <td>66.000000</td>\n",
              "      <td>33.000000</td>\n",
              "      <td>54.500000</td>\n",
              "      <td>22.000000</td>\n",
              "    </tr>\n",
              "    <tr>\n",
              "      <th>max</th>\n",
              "      <td>77.000000</td>\n",
              "      <td>38.000000</td>\n",
              "      <td>67.000000</td>\n",
              "      <td>25.000000</td>\n",
              "    </tr>\n",
              "  </tbody>\n",
              "</table>\n",
              "</div>"
            ],
            "text/plain": [
              "            SE_L       SE_W       PE_L       PE_W\n",
              "count  27.000000  27.000000  27.000000  27.000000\n",
              "mean   61.037037  30.481481  44.703704  15.814815\n",
              "std     8.026310   3.641327  16.330281   7.311935\n",
              "min    46.000000  22.000000  10.000000   2.000000\n",
              "25%    56.500000  28.000000  45.000000  13.500000\n",
              "50%    62.000000  30.000000  51.000000  17.000000\n",
              "75%    66.000000  33.000000  54.500000  22.000000\n",
              "max    77.000000  38.000000  67.000000  25.000000"
            ]
          },
          "execution_count": 11,
          "metadata": {},
          "output_type": "execute_result"
        }
      ],
      "source": [
        "data.describe()"
      ]
    },
    {
      "cell_type": "markdown",
      "metadata": {
        "id": "50a38XraOx_H"
      },
      "source": [
        "## Affichez les statistiques élémentaires pour chacune des espèces d’Iris"
      ]
    },
    {
      "cell_type": "code",
      "execution_count": null,
      "metadata": {
        "id": "x13ctaEwUDf_",
        "outputId": "0e94acde-3830-44b4-81bd-489b037a8149"
      },
      "outputs": [
        {
          "data": {
            "text/html": [
              "<div>\n",
              "<style scoped>\n",
              "    .dataframe tbody tr th:only-of-type {\n",
              "        vertical-align: middle;\n",
              "    }\n",
              "\n",
              "    .dataframe tbody tr th {\n",
              "        vertical-align: top;\n",
              "    }\n",
              "\n",
              "    .dataframe thead tr th {\n",
              "        text-align: left;\n",
              "    }\n",
              "\n",
              "    .dataframe thead tr:last-of-type th {\n",
              "        text-align: right;\n",
              "    }\n",
              "</style>\n",
              "<table border=\"1\" class=\"dataframe\">\n",
              "  <thead>\n",
              "    <tr>\n",
              "      <th></th>\n",
              "      <th colspan=\"8\" halign=\"left\">SE_L</th>\n",
              "      <th colspan=\"2\" halign=\"left\">SE_W</th>\n",
              "      <th>...</th>\n",
              "      <th colspan=\"2\" halign=\"left\">PE_L</th>\n",
              "      <th colspan=\"8\" halign=\"left\">PE_W</th>\n",
              "    </tr>\n",
              "    <tr>\n",
              "      <th></th>\n",
              "      <th>count</th>\n",
              "      <th>mean</th>\n",
              "      <th>std</th>\n",
              "      <th>min</th>\n",
              "      <th>25%</th>\n",
              "      <th>50%</th>\n",
              "      <th>75%</th>\n",
              "      <th>max</th>\n",
              "      <th>count</th>\n",
              "      <th>mean</th>\n",
              "      <th>...</th>\n",
              "      <th>75%</th>\n",
              "      <th>max</th>\n",
              "      <th>count</th>\n",
              "      <th>mean</th>\n",
              "      <th>std</th>\n",
              "      <th>min</th>\n",
              "      <th>25%</th>\n",
              "      <th>50%</th>\n",
              "      <th>75%</th>\n",
              "      <th>max</th>\n",
              "    </tr>\n",
              "    <tr>\n",
              "      <th>Espece</th>\n",
              "      <th></th>\n",
              "      <th></th>\n",
              "      <th></th>\n",
              "      <th></th>\n",
              "      <th></th>\n",
              "      <th></th>\n",
              "      <th></th>\n",
              "      <th></th>\n",
              "      <th></th>\n",
              "      <th></th>\n",
              "      <th></th>\n",
              "      <th></th>\n",
              "      <th></th>\n",
              "      <th></th>\n",
              "      <th></th>\n",
              "      <th></th>\n",
              "      <th></th>\n",
              "      <th></th>\n",
              "      <th></th>\n",
              "      <th></th>\n",
              "      <th></th>\n",
              "    </tr>\n",
              "  </thead>\n",
              "  <tbody>\n",
              "    <tr>\n",
              "      <th>SETOSA</th>\n",
              "      <td>5.0</td>\n",
              "      <td>49.600</td>\n",
              "      <td>3.781534</td>\n",
              "      <td>46.0</td>\n",
              "      <td>46.00</td>\n",
              "      <td>50.0</td>\n",
              "      <td>51.00</td>\n",
              "      <td>55.0</td>\n",
              "      <td>5.0</td>\n",
              "      <td>34.200</td>\n",
              "      <td>...</td>\n",
              "      <td>14.00</td>\n",
              "      <td>17.0</td>\n",
              "      <td>5.0</td>\n",
              "      <td>2.800000</td>\n",
              "      <td>1.303840</td>\n",
              "      <td>2.0</td>\n",
              "      <td>2.00</td>\n",
              "      <td>2.0</td>\n",
              "      <td>3.0</td>\n",
              "      <td>5.0</td>\n",
              "    </tr>\n",
              "    <tr>\n",
              "      <th>VERSICOLOR</th>\n",
              "      <td>8.0</td>\n",
              "      <td>60.375</td>\n",
              "      <td>3.020761</td>\n",
              "      <td>56.0</td>\n",
              "      <td>58.50</td>\n",
              "      <td>60.5</td>\n",
              "      <td>62.25</td>\n",
              "      <td>65.0</td>\n",
              "      <td>8.0</td>\n",
              "      <td>28.125</td>\n",
              "      <td>...</td>\n",
              "      <td>47.25</td>\n",
              "      <td>51.0</td>\n",
              "      <td>8.0</td>\n",
              "      <td>14.750000</td>\n",
              "      <td>2.121320</td>\n",
              "      <td>11.0</td>\n",
              "      <td>13.75</td>\n",
              "      <td>15.0</td>\n",
              "      <td>16.0</td>\n",
              "      <td>18.0</td>\n",
              "    </tr>\n",
              "    <tr>\n",
              "      <th>VIRGINICA</th>\n",
              "      <td>14.0</td>\n",
              "      <td>65.500</td>\n",
              "      <td>6.892024</td>\n",
              "      <td>49.0</td>\n",
              "      <td>63.25</td>\n",
              "      <td>66.0</td>\n",
              "      <td>67.75</td>\n",
              "      <td>77.0</td>\n",
              "      <td>14.0</td>\n",
              "      <td>30.500</td>\n",
              "      <td>...</td>\n",
              "      <td>56.75</td>\n",
              "      <td>67.0</td>\n",
              "      <td>14.0</td>\n",
              "      <td>21.071429</td>\n",
              "      <td>2.894671</td>\n",
              "      <td>15.0</td>\n",
              "      <td>19.25</td>\n",
              "      <td>22.0</td>\n",
              "      <td>23.0</td>\n",
              "      <td>25.0</td>\n",
              "    </tr>\n",
              "  </tbody>\n",
              "</table>\n",
              "<p>3 rows × 32 columns</p>\n",
              "</div>"
            ],
            "text/plain": [
              "            SE_L                                                    SE_W  \\\n",
              "           count    mean       std   min    25%   50%    75%   max count   \n",
              "Espece                                                                     \n",
              "SETOSA       5.0  49.600  3.781534  46.0  46.00  50.0  51.00  55.0   5.0   \n",
              "VERSICOLOR   8.0  60.375  3.020761  56.0  58.50  60.5  62.25  65.0   8.0   \n",
              "VIRGINICA   14.0  65.500  6.892024  49.0  63.25  66.0  67.75  77.0  14.0   \n",
              "\n",
              "                    ...   PE_L        PE_W                                    \\\n",
              "              mean  ...    75%   max count       mean       std   min    25%   \n",
              "Espece              ...                                                        \n",
              "SETOSA      34.200  ...  14.00  17.0   5.0   2.800000  1.303840   2.0   2.00   \n",
              "VERSICOLOR  28.125  ...  47.25  51.0   8.0  14.750000  2.121320  11.0  13.75   \n",
              "VIRGINICA   30.500  ...  56.75  67.0  14.0  21.071429  2.894671  15.0  19.25   \n",
              "\n",
              "                              \n",
              "             50%   75%   max  \n",
              "Espece                        \n",
              "SETOSA       2.0   3.0   5.0  \n",
              "VERSICOLOR  15.0  16.0  18.0  \n",
              "VIRGINICA   22.0  23.0  25.0  \n",
              "\n",
              "[3 rows x 32 columns]"
            ]
          },
          "execution_count": 44,
          "metadata": {},
          "output_type": "execute_result"
        }
      ],
      "source": [
        "data.groupby('Espece').describe()"
      ]
    },
    {
      "cell_type": "markdown",
      "metadata": {
        "id": "wWlNXAFfUDgA"
      },
      "source": [
        "1. Afficher l'histogramme d'une variable ainsi que sa densité.\n",
        "2. Afficher l'histogramme d'une variable ainsi que sa densité pour chaque espèce.\n",
        "3. Afficher dans un diagramme circulaire les fréquences de la variable espèce\n",
        "4. Comparer les distributions des différentes espèces avec un boxplot.\n",
        "5. Tracer le nuage de points individus pour deux variables.\n",
        "6. Tracer la matrice des nuages de points individus pour toutes les variables deux à deux.\n",
        "7. En déduire les variables fortement corrélées (en interprétant les graphiques).\n",
        "8. Calculer la matrice de corrélation et confirmer les résultats de la question précédente."
      ]
    },
    {
      "cell_type": "markdown",
      "metadata": {
        "id": "Smfm3KDDUDgA"
      },
      "source": [
        "## 1) Histogramme et densité de la variable SE_L"
      ]
    },
    {
      "cell_type": "code",
      "execution_count": null,
      "metadata": {
        "colab": {
          "base_uri": "https://localhost:8080/",
          "height": 142
        },
        "id": "YzT4WdqIP3kC",
        "outputId": "58666a52-07b7-49fd-f486-25ce969a2423"
      },
      "outputs": [
        {
          "data": {
            "text/plain": [
              "<matplotlib.axes._subplots.AxesSubplot at 0x21a95b77708>"
            ]
          },
          "execution_count": 47,
          "metadata": {},
          "output_type": "execute_result"
        },
        {
          "data": {
            "image/png": "[encoded data removed]",
            "text/plain": [
              "<Figure size 432x288 with 1 Axes>"
            ]
          },
          "metadata": {
            "needs_background": "light"
          },
          "output_type": "display_data"
        }
      ],
      "source": [
        "data.SE_L.plot(kind=\"hist\")"
      ]
    },
    {
      "cell_type": "code",
      "execution_count": null,
      "metadata": {
        "id": "YVZxehT9UDgB",
        "outputId": "2fb8f286-9428-454f-91be-5f5b66dfb752"
      },
      "outputs": [
        {
          "data": {
            "text/plain": [
              "<matplotlib.axes._subplots.AxesSubplot at 0x21a944c0e48>"
            ]
          },
          "execution_count": 48,
          "metadata": {},
          "output_type": "execute_result"
        },
        {
          "data": {
            "image/png": "[encoded data removed]",
            "text/plain": [
              "<Figure size 432x288 with 1 Axes>"
            ]
          },
          "metadata": {
            "needs_background": "light"
          },
          "output_type": "display_data"
        }
      ],
      "source": [
        "data.SE_L.plot(kind=\"hist\", density=True)"
      ]
    },
    {
      "cell_type": "markdown",
      "metadata": {
        "id": "B2yhcyUjUDgC"
      },
      "source": [
        "## 2) Histogrammes et densités de la variable PE_L pour chaque espèce"
      ]
    },
    {
      "cell_type": "code",
      "execution_count": null,
      "metadata": {
        "id": "LRmNAalZUDgC",
        "outputId": "7b9b7815-c4a9-460e-da5a-a811ef370c8d"
      },
      "outputs": [
        {
          "data": {
            "text/plain": [
              "Espece\n",
              "SETOSA        AxesSubplot(0.125,0.125;0.775x0.755)\n",
              "VERSICOLOR    AxesSubplot(0.125,0.125;0.775x0.755)\n",
              "VIRGINICA     AxesSubplot(0.125,0.125;0.775x0.755)\n",
              "Name: PE_L, dtype: object"
            ]
          },
          "execution_count": 51,
          "metadata": {},
          "output_type": "execute_result"
        },
        {
          "data": {
            "image/png": "[encoded data removed]",
            "text/plain": [
              "<Figure size 432x288 with 1 Axes>"
            ]
          },
          "metadata": {
            "needs_background": "light"
          },
          "output_type": "display_data"
        }
      ],
      "source": [
        "data.groupby(\"Espece\").PE_L.plot(kind=\"hist\")"
      ]
    },
    {
      "cell_type": "code",
      "execution_count": null,
      "metadata": {
        "id": "5fynh7k_UDgC",
        "outputId": "46456697-e400-4821-a7d9-d048ccec135d"
      },
      "outputs": [
        {
          "data": {
            "text/plain": [
              "Espece\n",
              "SETOSA        AxesSubplot(0.125,0.125;0.775x0.755)\n",
              "VERSICOLOR    AxesSubplot(0.125,0.125;0.775x0.755)\n",
              "VIRGINICA     AxesSubplot(0.125,0.125;0.775x0.755)\n",
              "Name: PE_L, dtype: object"
            ]
          },
          "execution_count": 52,
          "metadata": {},
          "output_type": "execute_result"
        },
        {
          "data": {
            "image/png": "[encoded data removed]",
            "text/plain": [
              "<Figure size 432x288 with 1 Axes>"
            ]
          },
          "metadata": {
            "needs_background": "light"
          },
          "output_type": "display_data"
        }
      ],
      "source": [
        "data.groupby(\"Espece\").PE_L.plot(kind=\"hist\", density=True)"
      ]
    },
    {
      "cell_type": "markdown",
      "metadata": {
        "id": "hM5XOHbuUDgD"
      },
      "source": [
        "## 3) Diagramme circulaire pour les fréquences de la variable espèce"
      ]
    },
    {
      "cell_type": "code",
      "execution_count": null,
      "metadata": {
        "id": "fz51d8ttUDgD",
        "outputId": "13d82411-dd9c-475d-8543-6652455e7d70"
      },
      "outputs": [
        {
          "data": {
            "text/plain": [
              "array([<matplotlib.axes._subplots.AxesSubplot object at 0x0000021A95EDEF08>],\n",
              "      dtype=object)"
            ]
          },
          "execution_count": 53,
          "metadata": {},
          "output_type": "execute_result"
        },
        {
          "data": {
            "image/png": "[encoded data removed]",
            "text/plain": [
              "<Figure size 432x432 with 1 Axes>"
            ]
          },
          "metadata": {},
          "output_type": "display_data"
        }
      ],
      "source": [
        "t = pd.crosstab(data.Espece,\"freq\")\n",
        "t.plot.pie(subplots=True,figsize=(6,6))"
      ]
    },
    {
      "cell_type": "markdown",
      "metadata": {
        "id": "APonMqJMUDgD"
      },
      "source": [
        "## 4) Les distributions des différentes espèces avec un boxplot."
      ]
    },
    {
      "cell_type": "code",
      "execution_count": null,
      "metadata": {
        "id": "AXUO6vr1UDgE",
        "outputId": "429dc5e5-1196-4baa-b075-80ca9c954a0c"
      },
      "outputs": [
        {
          "data": {
            "text/plain": [
              "array([[<matplotlib.axes._subplots.AxesSubplot object at 0x0000021A95F20388>,\n",
              "        <matplotlib.axes._subplots.AxesSubplot object at 0x0000021A96025948>],\n",
              "       [<matplotlib.axes._subplots.AxesSubplot object at 0x0000021A9605DC48>,\n",
              "        <matplotlib.axes._subplots.AxesSubplot object at 0x0000021A9609A308>]],\n",
              "      dtype=object)"
            ]
          },
          "execution_count": 55,
          "metadata": {},
          "output_type": "execute_result"
        },
        {
          "data": {
            "image/png": "[encoded data removed]",
            "text/plain": [
              "<Figure size 576x576 with 4 Axes>"
            ]
          },
          "metadata": {
            "needs_background": "light"
          },
          "output_type": "display_data"
        }
      ],
      "source": [
        "data.boxplot(by=\"Espece\", figsize=(8,8))"
      ]
    },
    {
      "cell_type": "markdown",
      "metadata": {
        "id": "XWSi0qZ-UDgE"
      },
      "source": [
        "## 5) Le nuage de points individus pour les deux variables SE_W et PE_W"
      ]
    },
    {
      "cell_type": "code",
      "execution_count": null,
      "metadata": {
        "id": "DKmmWzy4UDgE",
        "outputId": "1401300e-8ea2-4e72-e2f4-24347157720f"
      },
      "outputs": [
        {
          "data": {
            "text/plain": [
              "<matplotlib.axes._subplots.AxesSubplot at 0x21a95ee3308>"
            ]
          },
          "execution_count": 57,
          "metadata": {},
          "output_type": "execute_result"
        },
        {
          "data": {
            "image/png": "[encoded data removed]",
            "text/plain": [
              "<Figure size 432x288 with 1 Axes>"
            ]
          },
          "metadata": {
            "needs_background": "light"
          },
          "output_type": "display_data"
        }
      ],
      "source": [
        "data.plot.scatter('SE_W', 'PE_W')"
      ]
    },
    {
      "cell_type": "markdown",
      "metadata": {
        "id": "7y3EuKPMUDgF"
      },
      "source": [
        "## 6) La matrice des nuages de points individus pour toutes les variables deux à deux."
      ]
    },
    {
      "cell_type": "code",
      "execution_count": null,
      "metadata": {
        "id": "1EMrarhoUDgF",
        "outputId": "e6771aa8-de6d-43c5-b951-ac8f0084d579"
      },
      "outputs": [
        {
          "data": {
            "text/plain": [
              "array([[<matplotlib.axes._subplots.AxesSubplot object at 0x0000021A964B2848>,\n",
              "        <matplotlib.axes._subplots.AxesSubplot object at 0x0000021A962E3608>,\n",
              "        <matplotlib.axes._subplots.AxesSubplot object at 0x0000021A9630BD88>,\n",
              "        <matplotlib.axes._subplots.AxesSubplot object at 0x0000021A96347548>],\n",
              "       [<matplotlib.axes._subplots.AxesSubplot object at 0x0000021A9637BC88>,\n",
              "        <matplotlib.axes._subplots.AxesSubplot object at 0x0000021A96888448>,\n",
              "        <matplotlib.axes._subplots.AxesSubplot object at 0x0000021A968BEB48>,\n",
              "        <matplotlib.axes._subplots.AxesSubplot object at 0x0000021A968FA788>],\n",
              "       [<matplotlib.axes._subplots.AxesSubplot object at 0x0000021A968FA988>,\n",
              "        <matplotlib.axes._subplots.AxesSubplot object at 0x0000021A96934908>,\n",
              "        <matplotlib.axes._subplots.AxesSubplot object at 0x0000021A969A8448>,\n",
              "        <matplotlib.axes._subplots.AxesSubplot object at 0x0000021A979AF2C8>],\n",
              "       [<matplotlib.axes._subplots.AxesSubplot object at 0x0000021A979E9148>,\n",
              "        <matplotlib.axes._subplots.AxesSubplot object at 0x0000021A97A1DFC8>,\n",
              "        <matplotlib.axes._subplots.AxesSubplot object at 0x0000021A97A56E48>,\n",
              "        <matplotlib.axes._subplots.AxesSubplot object at 0x0000021A97A90CC8>]],\n",
              "      dtype=object)"
            ]
          },
          "execution_count": 59,
          "metadata": {},
          "output_type": "execute_result"
        },
        {
          "data": {
            "image/png": "[encoded data removed]",
            "text/plain": [
              "<Figure size 720x720 with 16 Axes>"
            ]
          },
          "metadata": {
            "needs_background": "light"
          },
          "output_type": "display_data"
        }
      ],
      "source": [
        "pd.plotting.scatter_matrix(data, figsize=(10,10))"
      ]
    },
    {
      "cell_type": "markdown",
      "metadata": {
        "id": "c-WzLfYoUDgF"
      },
      "source": [
        "## 7) Les variables fortement corrélées\n",
        "\n",
        "En interprétant les graphiques, on remarque que le nuages des points pour les deux variable \"PE_L\" et \"PE_W\" forme à peu près une droite. Donc on peut dire que ces deux variables sont corrélées. De même, mais moins remarquable, pour le nuage des variables \"SE_L\" et \"PE_L\"."
      ]
    },
    {
      "cell_type": "markdown",
      "metadata": {
        "id": "50qp98dvUDgF"
      },
      "source": [
        "## 8) La matrice de corrélation"
      ]
    },
    {
      "cell_type": "code",
      "execution_count": null,
      "metadata": {
        "id": "iS4O86TgUDgF",
        "outputId": "4a70600f-a18a-4eab-b88c-cf4b50542fdd"
      },
      "outputs": [
        {
          "data": {
            "text/html": [
              "<div>\n",
              "<style scoped>\n",
              "    .dataframe tbody tr th:only-of-type {\n",
              "        vertical-align: middle;\n",
              "    }\n",
              "\n",
              "    .dataframe tbody tr th {\n",
              "        vertical-align: top;\n",
              "    }\n",
              "\n",
              "    .dataframe thead th {\n",
              "        text-align: right;\n",
              "    }\n",
              "</style>\n",
              "<table border=\"1\" class=\"dataframe\">\n",
              "  <thead>\n",
              "    <tr style=\"text-align: right;\">\n",
              "      <th></th>\n",
              "      <th>SE_L</th>\n",
              "      <th>SE_W</th>\n",
              "      <th>PE_L</th>\n",
              "      <th>PE_W</th>\n",
              "    </tr>\n",
              "  </thead>\n",
              "  <tbody>\n",
              "    <tr>\n",
              "      <th>SE_L</th>\n",
              "      <td>1.000000</td>\n",
              "      <td>0.020422</td>\n",
              "      <td>0.858688</td>\n",
              "      <td>0.804245</td>\n",
              "    </tr>\n",
              "    <tr>\n",
              "      <th>SE_W</th>\n",
              "      <td>0.020422</td>\n",
              "      <td>1.000000</td>\n",
              "      <td>-0.261405</td>\n",
              "      <td>-0.181426</td>\n",
              "    </tr>\n",
              "    <tr>\n",
              "      <th>PE_L</th>\n",
              "      <td>0.858688</td>\n",
              "      <td>-0.261405</td>\n",
              "      <td>1.000000</td>\n",
              "      <td>0.942331</td>\n",
              "    </tr>\n",
              "    <tr>\n",
              "      <th>PE_W</th>\n",
              "      <td>0.804245</td>\n",
              "      <td>-0.181426</td>\n",
              "      <td>0.942331</td>\n",
              "      <td>1.000000</td>\n",
              "    </tr>\n",
              "  </tbody>\n",
              "</table>\n",
              "</div>"
            ],
            "text/plain": [
              "          SE_L      SE_W      PE_L      PE_W\n",
              "SE_L  1.000000  0.020422  0.858688  0.804245\n",
              "SE_W  0.020422  1.000000 -0.261405 -0.181426\n",
              "PE_L  0.858688 -0.261405  1.000000  0.942331\n",
              "PE_W  0.804245 -0.181426  0.942331  1.000000"
            ]
          },
          "execution_count": 60,
          "metadata": {},
          "output_type": "execute_result"
        }
      ],
      "source": [
        "data.corr()"
      ]
    },
    {
      "cell_type": "markdown",
      "metadata": {
        "id": "aw6b4KSmUDgG"
      },
      "source": [
        "Les interprétations graphiques sont donc confirmées par cette matrice en regardant les valeurs 0.942331 et 0.858688 qui sont proches de 1."
      ]
    }
  ],
  "metadata": {
    "colab": {
      "name": "TP2.ipynb",
      "provenance": [],
      "collapsed_sections": []
    },
    "kernelspec": {
      "display_name": "Python 3",
      "language": "python",
      "name": "python3"
    },
    "language_info": {
      "codemirror_mode": {
        "name": "ipython",
        "version": 3
      },
      "file_extension": ".py",
      "mimetype": "text/x-python",
      "name": "python",
      "nbconvert_exporter": "python",
      "pygments_lexer": "ipython3",
      "version": "3.7.7"
    }
  },
  "nbformat": 4,
  "nbformat_minor": 0
}